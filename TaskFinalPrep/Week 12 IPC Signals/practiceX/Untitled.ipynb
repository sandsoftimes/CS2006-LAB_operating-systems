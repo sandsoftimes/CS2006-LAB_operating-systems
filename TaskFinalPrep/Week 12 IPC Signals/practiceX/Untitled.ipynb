{
 "cells": [
  {
   "cell_type": "code",
   "execution_count": 1,
   "id": "ed10c4aa",
   "metadata": {},
   "outputs": [
    {
     "name": "stdout",
     "output_type": "stream",
     "text": [
      "Type your email to validate it => p200101@gmail.com\n",
      "Valid Email\n"
     ]
    }
   ],
   "source": [
    "import re\n",
    "\n",
    "def validate_email(email):\n",
    "    pattern = r'^[a-zA-Z0-9.-]+@(gmail|hotmail|live|yahoo)\\.com$'\n",
    "    return re.match(pattern, email) is not None\n",
    "\n",
    "# Take input from the user as an email\n",
    "email = input(\"Type your email to validate it => \")\n",
    "\n",
    "if validate_email(email):\n",
    "    print(\"Valid Email\")\n",
    "else:\n",
    "    print(\"Not a valid email\")"
   ]
  },
  {
   "cell_type": "code",
   "execution_count": null,
   "id": "130e06e7",
   "metadata": {},
   "outputs": [],
   "source": []
  }
 ],
 "metadata": {
  "kernelspec": {
   "display_name": "Python 3",
   "language": "python",
   "name": "python3"
  },
  "language_info": {
   "codemirror_mode": {
    "name": "ipython",
    "version": 3
   },
   "file_extension": ".py",
   "mimetype": "text/x-python",
   "name": "python",
   "nbconvert_exporter": "python",
   "pygments_lexer": "ipython3",
   "version": "3.8.10"
  }
 },
 "nbformat": 4,
 "nbformat_minor": 5
}
